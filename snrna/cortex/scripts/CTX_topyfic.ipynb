{
 "cells": [
  {
   "cell_type": "code",
   "execution_count": 1,
   "id": "190e5f1a-5543-4ad3-8406-4487926e3280",
   "metadata": {},
   "outputs": [],
   "source": [
    "import pandas as pd\n",
    "import scanpy as sc\n",
    "import numpy as np\n",
    "import scipy as sp\n",
    "import random\n",
    "import anndata"
   ]
  },
  {
   "cell_type": "code",
   "execution_count": 2,
   "id": "d0821e3d-cd68-47ce-af16-d36057e19301",
   "metadata": {},
   "outputs": [],
   "source": [
    "def normalization(mtx):\n",
    "    pf = mtx.sum(axis=1).A.ravel()\n",
    "    log1p_pf = np.log1p(sp.sparse.diags(pf.mean()/pf) @ mtx)\n",
    "    \n",
    "    pf = log1p_pf.sum(axis=1).A.ravel()\n",
    "    pf_log1p_pf = sp.sparse.diags(pf.mean()/pf) @ log1p_pf\n",
    "    \n",
    "    return pf_log1p_pf\n"
   ]
  },
  {
   "cell_type": "code",
   "execution_count": 3,
   "id": "a6232bf9-da94-4fe9-bca1-5096f20b560b",
   "metadata": {},
   "outputs": [
    {
     "name": "stderr",
     "output_type": "stream",
     "text": [
      "/opt/apps/python/3.8.0/lib/python3.8/site-packages/anndata/_core/anndata.py:121: ImplicitModificationWarning: Transforming to str index.\n",
      "  warnings.warn(\"Transforming to str index.\", ImplicitModificationWarning)\n"
     ]
    }
   ],
   "source": [
    "adata = sc.read_mtx(\"../seurat/cortex_10x.mtx\")\n",
    "adata = adata.transpose()\n",
    "\n",
    "obs = pd.read_csv(\"../seurat/cortex_10x_metadata.csv\",index_col=[0])         \n",
    "var = pd.read_csv(\"../ref/gene_display_table_expressed_7categories.csv\")\n",
    "\n",
    "X = adata.X\n",
    "data = anndata.AnnData(X=X, obs=obs, var=var)    \n",
    "data.var.set_index('gene_name', inplace=True)\n",
    "data.X = normalization(data.X)\n",
    "data.X = np.round_(data.X)\n",
    "\n",
    "data.write(\"../seurat/cortex_10x.h5ad\")"
   ]
  },
  {
   "cell_type": "code",
   "execution_count": 4,
   "id": "4f917a44-683b-432d-9f44-721ba1f02273",
   "metadata": {},
   "outputs": [],
   "source": [
    "adata = sc.read_mtx(\"../seurat/cortex_Parse.mtx\")\n",
    "adata = adata.transpose()\n",
    "\n",
    "obs = pd.read_csv(\"../seurat/cortex_Parse_metadata.csv\",index_col=[0])         \n",
    "var = pd.read_csv(\"../ref/gene_display_table_expressed_7categories.csv\")\n",
    "\n",
    "X = adata.X\n",
    "data = anndata.AnnData(X=X, obs=obs, var=var)    \n",
    "data.var.set_index('gene_name', inplace=True)\n",
    "data.X = normalization(data.X)\n",
    "data.X = np.round_(data.X)\n",
    "\n",
    "data.write(\"../seurat/cortex_Parse.h5ad\")\n"
   ]
  },
  {
   "cell_type": "markdown",
   "id": "922ac7c1-f17a-42ef-86b2-bde09f0886da",
   "metadata": {},
   "source": [
    "## k vs n"
   ]
  },
  {
   "cell_type": "code",
   "execution_count": null,
   "id": "c1a0d3e7-3817-47eb-91e9-1bc2f7642f1c",
   "metadata": {},
   "outputs": [],
   "source": [
    "import Topyfic\n",
    "import pandas as pd\n",
    "\n",
    "k_topics = [15, 20, 25, 30, 35]\n",
    "\n",
    "df = pd.DataFrame(columns=['k', 'N'])\n",
    "\n",
    "for k in k_topics:\n",
    "    top_model = Topyfic.read_topModel(\"../topyfic/10x/Cortex_\" + str(k) + \"/topModel_train_\" + str(k) + \".p\")\n",
    "    tmp = pd.DataFrame([[k, top_model.N]], columns=['k', 'N'])\n",
    "    df = pd.concat([df, tmp])\n",
    "    \n"
   ]
  },
  {
   "cell_type": "code",
   "execution_count": null,
   "id": "ca6772e3-4d53-458c-a7a2-81942e8117f7",
   "metadata": {},
   "outputs": [],
   "source": [
    "df.to_csv('../topyfic/10x/k_vs_n.csv',index=False) \n"
   ]
  },
  {
   "cell_type": "markdown",
   "id": "8b3b4d99-b052-448c-981e-6654ef70d427",
   "metadata": {},
   "source": [
    "## k vs n plot"
   ]
  },
  {
   "cell_type": "code",
   "execution_count": 1,
   "id": "357c5d76-c0c1-4a51-8a9a-42e7afb126e5",
   "metadata": {},
   "outputs": [
    {
     "data": {
      "text/plain": [
       "<matplotlib.legend.Legend at 0x7f4aaacff0a0>"
      ]
     },
     "execution_count": 1,
     "metadata": {},
     "output_type": "execute_result"
    },
    {
     "name": "stderr",
     "output_type": "stream",
     "text": [
      "findfont: Font family ['Arial'] not found. Falling back to DejaVu Sans.\n",
      "findfont: Font family ['Arial'] not found. Falling back to DejaVu Sans.\n"
     ]
    },
    {
     "data": {
      "image/png": "[encoded data removed]",
      "text/plain": [
       "<Figure size 432x288 with 1 Axes>"
      ]
     },
     "metadata": {
      "needs_background": "light"
     },
     "output_type": "display_data"
    }
   ],
   "source": [
    "from scipy.interpolate import interp1d\n",
    "import numpy as np\n",
    "import matplotlib.pyplot as plt\n",
    "import matplotlib as mpl\n",
    "import pandas as pd\n",
    "\n",
    "k_topics = [15, 20, 25, 30, 35]\n",
    "\n",
    "df = pd.read_csv('../topyfic/10x/k_vs_n.csv') \n",
    "mpl.rcParams['font.family'] = 'Arial'\n",
    "mpl.rcParams['pdf.fonttype'] = 42\n",
    "\n",
    "x = df['k'].tolist()\n",
    "y = df['N'].tolist()\n",
    "xnew = np.linspace(15, 35, num=21, endpoint=True)\n",
    "\n",
    "# Define interpolators.\n",
    "f_linear = interp1d(x, y)\n",
    "f_cubic = interp1d(x, y, kind='cubic')\n",
    "\n",
    "plt.plot(x, y, 'o', label='data')\n",
    "#plt.plot(xnew, f_linear(xnew), '-', label='linear')\n",
    "plt.plot(xnew, f_cubic(xnew), '--', label='cubic')\n",
    "plt.plot(k_topics, k_topics, linestyle='solid', label='x=y')\n",
    "#plt.axvline(x=25, color=\"red\", linestyle=\"solid\", label='k=25')\n",
    "plt.xlabel('K (#topics in each LDA run)')\n",
    "plt.ylabel('N (#rLDA topics)')\n",
    "plt.title(r\"#rLDA topics (N) based on # initial topics (k) on cortex 10x data\")\n",
    "plt.legend(loc='best')\n"
   ]
  },
  {
   "cell_type": "code",
   "execution_count": 2,
   "id": "1e00a4d2-5bb8-42a6-972e-d890279895f6",
   "metadata": {},
   "outputs": [
    {
     "data": {
      "text/plain": [
       "<matplotlib.legend.Legend at 0x7f4aaabc29a0>"
      ]
     },
     "execution_count": 2,
     "metadata": {},
     "output_type": "execute_result"
    },
    {
     "data": {
      "image/png": "[encoded data removed]",
      "text/plain": [
       "<Figure size 432x288 with 1 Axes>"
      ]
     },
     "metadata": {
      "needs_background": "light"
     },
     "output_type": "display_data"
    }
   ],
   "source": [
    "df = pd.read_csv('../topyfic/parse/k_vs_n.csv') \n",
    "mpl.rcParams['font.family'] = 'Arial'\n",
    "mpl.rcParams['pdf.fonttype'] = 42\n",
    "\n",
    "x = df['k'].tolist()\n",
    "y = df['N'].tolist()\n",
    "xnew = np.linspace(15, 35, num=21, endpoint=True)\n",
    "\n",
    "# Define interpolators.\n",
    "f_linear = interp1d(x, y)\n",
    "f_cubic = interp1d(x, y, kind='cubic')\n",
    "\n",
    "plt.plot(x, y, 'o', label='data')\n",
    "#plt.plot(xnew, f_linear(xnew), '-', label='linear')\n",
    "plt.plot(xnew, f_cubic(xnew), '--', label='cubic')\n",
    "plt.plot(k_topics, k_topics, linestyle='solid', label='x=y')\n",
    "#plt.axvline(x=25, color=\"red\", linestyle=\"solid\", label='k=25')\n",
    "plt.xlabel('K (#topics in each LDA run)')\n",
    "plt.ylabel('N (#rLDA topics)')\n",
    "plt.title(r\"#rLDA topics (N) based on # initial topics (k) on cortex Parse data\")\n",
    "plt.legend(loc='best')"
   ]
  },
  {
   "cell_type": "markdown",
   "id": "0ce57070-fc72-4191-967e-5a6e8a6a8536",
   "metadata": {},
   "source": [
    "# Combine"
   ]
  },
  {
   "cell_type": "code",
   "execution_count": null,
   "id": "521e19aa-bf6c-46be-9252-644d9fd49527",
   "metadata": {},
   "outputs": [],
   "source": [
    "import sys\n",
    "import Topyfic\n",
    "import pandas as pd\n",
    "import scanpy as sc\n",
    "import numpy as np\n",
    "import random"
   ]
  },
  {
   "cell_type": "code",
   "execution_count": null,
   "id": "af41deb2-d397-4e9c-b8c5-3b8282b5c411",
   "metadata": {},
   "outputs": [],
   "source": [
    "tissue = \"Cortex\"\n",
    "k = 20\n",
    "\n",
    "data_parse = sc.read_h5ad(\"../seurat/cortex_Parse.h5ad\")\n",
    "data_parse = data_parse[data_parse.obs[\"tissue\"] == tissue]\n",
    "\n",
    "data_multiome = sc.read_h5ad(\"../seurat/cortex_10x.h5ad\")\n",
    "data_multiome = data_multiome[data_multiome.obs[\"tissue\"] == tissue]\n",
    "\n",
    "data = data_parse.concatenate(data_multiome)"
   ]
  },
  {
   "cell_type": "code",
   "execution_count": null,
   "id": "a88f86e8-985f-4d4b-8b68-8670ac86c65f",
   "metadata": {},
   "outputs": [],
   "source": [
    "train_parse = Topyfic.read_train(\"../topyfic/parse/train_train_\" + str(k) + \".p\")\n",
    "train_parse.name = \"cortex_parse_20\"\n",
    "train_10x = Topyfic.read_train(\"../topyfic/10x/train_train_\" + str(k) + \".p\")\n",
    "train_10x.name = \"cortex_10x_20\"\n"
   ]
  },
  {
   "cell_type": "markdown",
   "id": "07cd3208-cee1-47c0-8992-3d8c029b3b16",
   "metadata": {},
   "source": [
    "## create topmodel"
   ]
  },
  {
   "cell_type": "code",
   "execution_count": null,
   "id": "a82ec33e-f2f5-4dad-9b7b-4cbc54fb6cb4",
   "metadata": {},
   "outputs": [],
   "source": [
    "trains = [train_parse, train_10x]\n",
    "top_model, clustering = Topyfic.calculate_leiden_clustering(trains=trains, \n",
    "                                                            data=data)\n",
    "\n",
    "genes = pd.read_csv(\"../ref/gene_display_table_expressed_7categories.csv\", index_col=0)\n",
    "\n",
    "for key in top_model.topics.keys():\n",
    "    top_model.topics[key].update_gene_information(genes)\n",
    "    \n",
    "clustering.to_csv(\"../topyfic/Cortex_parse_10x_20/cluster_contribution.csv\")\n",
    "top_model.save_topModel(\"../topyfic/Cortex_parse_10x_20/topModel_cortex_10x_20_cortex_parse_20\")\n",
    "\n"
   ]
  },
  {
   "cell_type": "markdown",
   "id": "b80b2c14-15c0-4ed1-b18a-d6d6017f9534",
   "metadata": {},
   "source": [
    "## plots"
   ]
  },
  {
   "cell_type": "code",
   "execution_count": null,
   "id": "887e9a2f-8e5d-4b3e-b3d0-a09134d8c673",
   "metadata": {},
   "outputs": [],
   "source": [
    "Topyfic.plot_cluster_contribution(clustering,\n",
    "                              feature=\"assays\",\n",
    "                              file_format=\"png\",\n",
    "                              file_name='../topyfic/Cortex_parse_10x_20/figures/cluster_contribution')\n",
    "\n"
   ]
  },
  {
   "cell_type": "markdown",
   "id": "1bf40de8-8351-4440-9ccb-7e5ee081bcf1",
   "metadata": {},
   "source": [
    "## analysis"
   ]
  },
  {
   "cell_type": "code",
   "execution_count": null,
   "id": "2d3d7e94-f39c-4d66-b5b7-4acd405afad9",
   "metadata": {},
   "outputs": [],
   "source": [
    "top_model = Topyfic.read_topModel(\"../topyfic/Cortex_parse_10x_20/topModel_cortex_10x_20_cortex_parse_20.p\")\n",
    "analysis_top_model = Topyfic.Analysis(Top_model=top_model)\n",
    "analysis_top_model.calculate_cell_participation(data=data)\n",
    "analysis_top_model.save_analysis(\"../topyfic/Cortex_parse_10x_20/analysis_Cortex_10x_Cortex_parse\")\n"
   ]
  },
  {
   "cell_type": "code",
   "execution_count": null,
   "id": "d43c991f-54ab-44d2-bcb7-b402a213c255",
   "metadata": {},
   "outputs": [],
   "source": [
    "analysis_top_model = Topyfic.read_analysis(\"../topyfic/Cortex_parse_10x_20/analysis_Cortex_10x_Cortex_parse.p\")\n"
   ]
  },
  {
   "cell_type": "code",
   "execution_count": null,
   "id": "dd97298b-8bd7-4baf-9efd-9fc6f96fdc36",
   "metadata": {},
   "outputs": [],
   "source": [
    "label = dict()\n",
    "for i in range(analysis_top_model.top_model.N):\n",
    "    key = f\"Topic_{i+1}\"\n",
    "    value = f\"CX{i+1}\"\n",
    "    label[key] = value\n",
    "\n",
    "analysis_top_model.average_cell_participation(label=label,\n",
    "                                              color=\"orange\",\n",
    "                                              file_format='pdf',\n",
    "                                              file_name=\"../topyfic/Cortex_parse_10x_20/figures/average_cell_participation\")\n",
    "\n"
   ]
  },
  {
   "cell_type": "code",
   "execution_count": null,
   "id": "1426c519-ed76-4503-bd57-4c10cfb9c077",
   "metadata": {},
   "outputs": [],
   "source": [
    "celltypes = data.obs.celltypes.unique().tolist()\n",
    "for celltype in celltypes:\n",
    "    subtypes = data.obs[data.obs.celltypes == celltype].subtypes.unique().tolist()\n",
    "    file_name = \"../topyfic/Cortex_parse_10x_20/figures/pieChart/dist_topics_celltypes_RNA_{celltype}\"\n",
    "    analysis_top_model.pie_structure_Chart(level='subtypes',\n",
    "                                           category=subtypes,\n",
    "                                            save=True,\n",
    "                                            show=False,\n",
    "                                            file_format='png',\n",
    "                                            file_name=file_name)\n",
    "\n",
    "subtypes = data.obs.subtypes.unique().tolist()\n",
    "file_name = \"../topyfic/Cortex_parse_10x_20/figures/pieChart/dist_topics_subtypes_RNA\"\n",
    "analysis_top_model.pie_structure_Chart(level='subtypes',\n",
    "                                       category=subtypes,\n",
    "                                       save=True,\n",
    "                                       show=False,\n",
    "                                       file_format='png',\n",
    "                                       file_name=file_name)"
   ]
  },
  {
   "cell_type": "code",
   "execution_count": null,
   "id": "18d3c318-6950-4b15-b863-1640623873f1",
   "metadata": {},
   "outputs": [],
   "source": [
    "import matplotlib as mpl\n",
    "\n",
    "my_palette_timepoint = {'PND_04': 'thistle',\n",
    "                                 'PND_10': 'plum',\n",
    "                                 'PND_14': 'violet',\n",
    "                                 'PND_25': 'mediumorchid',\n",
    "                                 'PND_36': 'darkviolet',\n",
    "                                 'PNM_02': 'purple',\n",
    "                                 'PNM_18': 'indigo'}\n",
    "\n",
    "my_palette_sex = {'Female': 'pink',\n",
    "                  'Male': 'blue'}\n",
    "\n",
    "my_palette_tec = {'Parse': 'red',\n",
    "                  '10x': 'green'}\n",
    "\n",
    "my_palette = {'timepoint' : my_palette_timepoint,\n",
    "              'sex': my_palette_sex,\n",
    "              'technology': my_palette_tec}"
   ]
  },
  {
   "cell_type": "code",
   "execution_count": null,
   "id": "41f62cd6-36d3-4f91-ab2b-cdb20f929658",
   "metadata": {},
   "outputs": [],
   "source": [
    "celltypes = data.obs.celltypes.unique().tolist()\n",
    "for celltype in celltypes:\n",
    "    subtypes = data.obs[data.obs.celltypes == celltype].subtypes.unique().tolist()\n",
    "    file_name = \"../topyfic/Cortex_parse_10x_20/figures/structurePlot/dist_topics_celltypes_RNA_timepoint_{celltype}\"\n",
    "    analysis_top_model.structure_plot(level='subtypes',\n",
    "                                      category=subtypes, \n",
    "                                      metaData=[\"timepoint\", \"sex\", \"technology\"],\n",
    "                                      metaData_palette=my_palette,\n",
    "                                      order_cells=[\"timepoint\", \"hierarchy\"],\n",
    "                                      save=True,\n",
    "                                      show=False,\n",
    "                                      file_format='png',\n",
    "                                      file_name=file_name)\n",
    "\n",
    "subtypes = data.obs.subtypes.unique().tolist()\n",
    "file_name = \"../topyfic/Cortex_parse_10x_20/figures/structurePlot/dist_topics_subtypes_RNA_timepoint_hierarchical\"\n",
    "analysis_top_model.structure_plot(level='subtypes',\n",
    "                                  category=subtypes,\n",
    "                                  metaData=[\"timepoint\", \"sex\", \"technology\"],\n",
    "                                  metaData_palette=my_palette,\n",
    "                                  order_cells=[\"timepoint\", \"hierarchy\"],\n",
    "                                  save=True,\n",
    "                                  show=False,\n",
    "                                  file_format='png',\n",
    "                                  file_name=file_name)"
   ]
  },
  {
   "cell_type": "code",
   "execution_count": null,
   "id": "9b60ec39-6644-4cf9-8c0b-beb622856339",
   "metadata": {},
   "outputs": [],
   "source": [
    "metadata = ['celltypes']\n",
    "analysis_top_model.TopicTraitRelationshipHeatmap(metadata,\n",
    "                                                 save=True,\n",
    "                                                 show=True,\n",
    "                                                 file_format='png',\n",
    "                                                 file_name='../topyfic/Cortex_parse_10x_20/figures/topic-traitRelationships_celltypes')\n",
    "\n",
    "metadata = ['timepoint','celltypes','subtypes']\n",
    "analysis_top_model.TopicTraitRelationshipHeatmap(metadata,\n",
    "                                                 save=True,\n",
    "                                                 show=True,\n",
    "                                                 file_format='png',\n",
    "                                                 file_name='../topyfic/Cortex_parse_10x_20/figures/topic-traitRelationships')"
   ]
  },
  {
   "cell_type": "markdown",
   "id": "61988eaf-47ed-4874-9f89-14be81aa8304",
   "metadata": {},
   "source": [
    "## gene weight"
   ]
  },
  {
   "cell_type": "code",
   "execution_count": null,
   "id": "b9c06580-49e8-4521-be42-eab00e1b82ef",
   "metadata": {},
   "outputs": [],
   "source": [
    "top_model = Topyfic.read_topModel(\"../topyfic/Cortex_parse_10x_20/topModel_cortex_10x_20_cortex_parse_20.p\")\n",
    "gene_weights = top_model.get_gene_weights()\n",
    "gene_weights.to_csv(\"../topyfic/Cortex_parse_10x_20/gene_weights.csv\")\n",
    "gene_weights"
   ]
  }
 ],
 "metadata": {
  "kernelspec": {
   "display_name": "Python 3 (ipykernel)",
   "language": "python",
   "name": "python3"
  },
  "language_info": {
   "codemirror_mode": {
    "name": "ipython",
    "version": 3
   },
   "file_extension": ".py",
   "mimetype": "text/x-python",
   "name": "python",
   "nbconvert_exporter": "python",
   "pygments_lexer": "ipython3",
   "version": "3.8.0"
  }
 },
 "nbformat": 4,
 "nbformat_minor": 5
}
